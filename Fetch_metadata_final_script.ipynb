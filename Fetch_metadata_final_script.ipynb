{
 "cells": [
  {
   "cell_type": "markdown",
   "id": "17cd4447-d802-4064-bc31-afccdee289c9",
   "metadata": {},
   "source": [
    "### Download Fasta and GFF Files throught RdRp number.\n",
    "\n",
    "Input: Excel shet with RDRP numbers from\n",
    "Output : Downloaded GFF and Fasta files"
   ]
  },
  {
   "cell_type": "markdown",
   "id": "38527e42-4a5e-43e5-b8ea-453beafe49da",
   "metadata": {},
   "source": [
    "##### Import all libraries."
   ]
  },
  {
   "cell_type": "code",
   "execution_count": null,
   "id": "8a368ee7-13e9-4864-be2a-e533e5877bcc",
   "metadata": {},
   "outputs": [],
   "source": [
    "import time\n",
    "from Bio import Entrez\n",
    "from Bio import SeqIO\n",
    "from Bio.Seq import Seq\n",
    "from Bio.SeqRecord import SeqRecord\n",
    "import os\n",
    "import xlrd"
   ]
  },
  {
   "cell_type": "markdown",
   "id": "cf7b455d-dc1e-4829-9f77-6908829a3937",
   "metadata": {},
   "source": [
    "##### Set the email address and API key for the Entrez API"
   ]
  },
  {
   "cell_type": "code",
   "execution_count": null,
   "id": "4b058d84-c809-4ebc-9207-9104d5282280",
   "metadata": {},
   "outputs": [],
   "source": [
    "Entrez.email = \"yash.panwar@aeratx.com\"\n",
    "Entrez.api_key = \"5920517397bd2a4db153a0ab87968903da08\""
   ]
  },
  {
   "cell_type": "markdown",
   "id": "56abaf7c-90a3-4204-ac4c-5830bafba91e",
   "metadata": {},
   "source": [
    "##### Read the RDRP numbers from an Excel file"
   ]
  },
  {
   "cell_type": "code",
   "execution_count": null,
   "id": "458cd563-0405-425d-bd72-8a4b8a8fb31c",
   "metadata": {},
   "outputs": [],
   "source": [
    "workbook = xlrd.open_workbook('virus_list.xls')\n",
    "sheet = workbook.sheet_by_index(0)\n",
    "rdrp_numbers = sheet.col_values(0)[1:] # Process only the first 10 entries"
   ]
  },
  {
   "cell_type": "markdown",
   "id": "3f212f74-596d-4f1f-93c3-fdfb6a4fbaae",
   "metadata": {},
   "source": [
    "##### Download the FASTA and GFF files for each RDRP number"
   ]
  },
  {
   "cell_type": "code",
   "execution_count": null,
   "id": "c28903b3-76a6-4ac0-a5be-ea0b645936fb",
   "metadata": {},
   "outputs": [],
   "source": [
    "batch_size = 200\n",
    "#WAIT_TIME = 10\n",
    "for i in range(0, len(rdrp_numbers), batch_size):\n",
    "    batch = rdrp_numbers[i:i+batch_size]\n",
    "    batch_size = len(batch)\n",
    "    print(f\"Processing batch {i/batch_size+1} with {batch_size} records\")\n",
    "\n",
    "    for rdrp_num in batch:\n",
    "        rdrp_num = str(int(rdrp_num))  # Convert RDRP number to string and remove decimal places\n",
    "        print(f\"Processing record {rdrp_num}...\")\n",
    "\n",
    "        # Search for the GenPept record using the RDRP number\n",
    "        search_term = f\"{rdrp_num}\"\n",
    "        search_handle = Entrez.esearch(db=\"protein\", term=search_term, retmax=1)\n",
    "        search_results = Entrez.read(search_handle)\n",
    "        search_handle.close()\n",
    "\n",
    "        if search_results[\"IdList\"]:\n",
    "            protein_id = search_results[\"IdList\"][0]\n",
    "\n",
    "            # Download the FASTA file for the protein record\n",
    "            fasta_dir = os.path.join(os.getcwd(), \"downloads\", \"Fasta_files\")\n",
    "            if not os.path.exists(fasta_dir):\n",
    "                os.makedirs(fasta_dir)\n",
    "            \n",
    "           \n",
    "            record = SeqIO.read(Entrez.efetch(db=\"protein\", id=protein_id, rettype=\"gb\", retmode=\"text\"), \"genbank\")\n",
    "            seq_record = str(record.seq)\n",
    "            fasta_path = os.path.join(fasta_dir, f\"{rdrp_num}.fasta\")\n",
    "\n",
    "            new_seq_record = SeqRecord(Seq(seq_record), id=rdrp_num, description=record.description)\n",
    "            SeqIO.write(new_seq_record, fasta_path, \"fasta\")\n",
    "            print(f\"Downloaded {fasta_path}\")\n",
    "\n",
    "            # Download the GFF file for the protein record\n",
    "            gff_dir = os.path.join(os.getcwd(), \"downloads\", \"Gff_files\")\n",
    "            if not os.path.exists(gff_dir):\n",
    "                os.makedirs(gff_dir)\n",
    "            \n",
    "            # Try to download the GFF file directly\n",
    "            gff_handle = Entrez.efetch(db=\"protein\", id=protein_id, rettype=\"gff3\", retmode=\"text\")\n",
    "            gff_data = gff_handle.read()\n",
    "            gff_handle.close()\n",
    "\n",
    "            gff_path = os.path.join(gff_dir, f\"{rdrp_num}.gff\")\n",
    "            with open(gff_path, \"w\") as f:\n",
    "                f.write(gff_data)\n",
    "            print(f\"Downloaded {gff_path}\")\n",
    "    print(f\"Batch {i/batch_size+1} complete\")"
   ]
  }
 ],
 "metadata": {
  "environment": {
   "kernel": "python3",
   "name": "tf2-gpu.2-9.m102",
   "type": "gcloud",
   "uri": "gcr.io/deeplearning-platform-release/tf2-gpu.2-9:m102"
  },
  "kernelspec": {
   "display_name": "Python 3 (ipykernel)",
   "language": "python",
   "name": "python3"
  },
  "language_info": {
   "codemirror_mode": {
    "name": "ipython",
    "version": 3
   },
   "file_extension": ".py",
   "mimetype": "text/x-python",
   "name": "python",
   "nbconvert_exporter": "python",
   "pygments_lexer": "ipython3",
   "version": "3.7.12"
  }
 },
 "nbformat": 4,
 "nbformat_minor": 5
}
